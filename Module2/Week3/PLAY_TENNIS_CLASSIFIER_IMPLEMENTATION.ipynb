{
  "nbformat": 4,
  "nbformat_minor": 0,
  "metadata": {
    "colab": {
      "provenance": []
    },
    "kernelspec": {
      "name": "python3",
      "display_name": "Python 3"
    },
    "language_info": {
      "name": "python"
    }
  },
  "cells": [
    {
      "cell_type": "code",
      "execution_count": 1,
      "metadata": {
        "colab": {
          "base_uri": "https://localhost:8080/"
        },
        "id": "7gozmYhVYYhh",
        "outputId": "27974d08-81b4-4e00-fd1e-b3be1ba9859a"
      },
      "outputs": [
        {
          "output_type": "stream",
          "name": "stdout",
          "text": [
            "[['Sunny' 'Hot' 'High' 'Weak' 'no']\n",
            " ['Sunny' 'Hot' 'High' 'Strong' 'no']\n",
            " ['Overcast' 'Hot' 'High' 'Weak' 'yes']\n",
            " ['Rain' 'Mild' 'High' 'Weak' 'yes']\n",
            " ['Rain' 'Cool' 'Normal' 'Weak' 'yes']\n",
            " ['Rain' 'Cool' 'Normal' 'Strong' 'no']\n",
            " ['Overcast' 'Cool' 'Normal' 'Strong' 'yes']\n",
            " ['Overcast' 'Mild' 'High' 'Weak' 'yes']\n",
            " ['Sunny' 'Cool' 'Normal' 'Weak' 'yes']\n",
            " ['Rain' 'Mild' 'Normal' 'Weak' 'yes']]\n"
          ]
        }
      ],
      "source": [
        "import numpy as np\n",
        "\n",
        "def create_train_data():\n",
        "    data = np.array([\n",
        "        ['Sunny', 'Hot', 'High', 'Weak', 'no'],\n",
        "        ['Sunny', 'Hot', 'High', 'Strong', 'no'],\n",
        "        ['Overcast', 'Hot', 'High', 'Weak', 'yes'],\n",
        "        ['Rain', 'Mild', 'High', 'Weak', 'yes'],\n",
        "        ['Rain', 'Cool', 'Normal', 'Weak', 'yes'],\n",
        "        ['Rain', 'Cool', 'Normal', 'Strong', 'no'],\n",
        "        ['Overcast', 'Cool', 'Normal', 'Strong', 'yes'],\n",
        "        ['Overcast', 'Mild', 'High', 'Weak', 'yes'],\n",
        "        ['Sunny', 'Cool', 'Normal', 'Weak', 'yes'],\n",
        "        ['Rain', 'Mild', 'Normal', 'Weak', 'yes']\n",
        "    ])\n",
        "    return data\n",
        "\n",
        "train_data = create_train_data()\n",
        "print(train_data)\n"
      ]
    },
    {
      "cell_type": "code",
      "source": [
        "def compute_prior_probability(train_data):\n",
        "    y_unique = ['no', 'yes']\n",
        "    prior_probability = np.zeros(len(y_unique))\n",
        "\n",
        "    total_count = len(train_data)\n",
        "\n",
        "    no_count = np.sum(train_data[:, -1] == 'no')\n",
        "    yes_count = np.sum(train_data[:, -1] == 'yes')\n",
        "\n",
        "    prior_probability[0] = no_count / total_count\n",
        "    prior_probability[1] = yes_count / total_count\n",
        "\n",
        "    return prior_probability\n",
        "\n",
        "prior_probability = compute_prior_probability(train_data)\n",
        "print(\"P(play tennis = No):\", prior_probability[0])\n",
        "print(\"P(play tennis = Yes):\", prior_probability[1])\n"
      ],
      "metadata": {
        "colab": {
          "base_uri": "https://localhost:8080/"
        },
        "id": "3F_0mLkBYbGH",
        "outputId": "e2bbcaf0-8df0-4e03-8db6-932c7e3aa2a0"
      },
      "execution_count": 2,
      "outputs": [
        {
          "output_type": "stream",
          "name": "stdout",
          "text": [
            "P(play tennis = No): 0.3\n",
            "P(play tennis = Yes): 0.7\n"
          ]
        }
      ]
    },
    {
      "cell_type": "code",
      "source": [
        "def compute_conditional_probability(train_data):\n",
        "    y_unique = ['no', 'yes']\n",
        "    conditional_probability = []\n",
        "    list_x_name = []\n",
        "\n",
        "    for i in range(0, train_data.shape[1] - 1):\n",
        "        x_unique = np.unique(train_data[:, i])\n",
        "        list_x_name.append(x_unique)\n",
        "\n",
        "        x_conditional_probability = {}\n",
        "        for x_value in x_unique:\n",
        "            x_conditional_probability[x_value] = {}\n",
        "            for y_value in y_unique:\n",
        "                subset = train_data[train_data[:, -1] == y_value]\n",
        "                count = np.sum(subset[:, i] == x_value)\n",
        "                total = len(subset)\n",
        "                x_conditional_probability[x_value][y_value] = count / total if total > 0 else 0\n",
        "\n",
        "        conditional_probability.append(x_conditional_probability)\n",
        "\n",
        "    return conditional_probability, list_x_name\n",
        "\n",
        "conditional_probability, list_x_name = compute_conditional_probability(train_data)\n",
        "print(\"Conditional Probability:\", conditional_probability)\n",
        "print(\"List of Unique Values for Each Feature:\", list_x_name)\n"
      ],
      "metadata": {
        "colab": {
          "base_uri": "https://localhost:8080/"
        },
        "id": "giCVmTBuZdFm",
        "outputId": "a0d781f5-20af-428a-b085-974536df7d92"
      },
      "execution_count": 4,
      "outputs": [
        {
          "output_type": "stream",
          "name": "stdout",
          "text": [
            "Conditional Probability: [{'Overcast': {'no': 0.0, 'yes': 0.42857142857142855}, 'Rain': {'no': 0.3333333333333333, 'yes': 0.42857142857142855}, 'Sunny': {'no': 0.6666666666666666, 'yes': 0.14285714285714285}}, {'Cool': {'no': 0.3333333333333333, 'yes': 0.42857142857142855}, 'Hot': {'no': 0.6666666666666666, 'yes': 0.14285714285714285}, 'Mild': {'no': 0.0, 'yes': 0.42857142857142855}}, {'High': {'no': 0.6666666666666666, 'yes': 0.42857142857142855}, 'Normal': {'no': 0.3333333333333333, 'yes': 0.5714285714285714}}, {'Strong': {'no': 0.6666666666666666, 'yes': 0.14285714285714285}, 'Weak': {'no': 0.3333333333333333, 'yes': 0.8571428571428571}}]\n",
            "List of Unique Values for Each Feature: [array(['Overcast', 'Rain', 'Sunny'], dtype='<U8'), array(['Cool', 'Hot', 'Mild'], dtype='<U8'), array(['High', 'Normal'], dtype='<U8'), array(['Strong', 'Weak'], dtype='<U8')]\n"
          ]
        }
      ]
    },
    {
      "cell_type": "code",
      "source": [
        "def get_index_from_value(feature_name, list_features):\n",
        "    return np.where(list_features == feature_name)[0][0]\n",
        "# Example usage of get_index_from_value\n",
        "outlook = list_x_name[0]\n",
        "i1 = get_index_from_value(\"Overcast\", outlook)\n",
        "i2 = get_index_from_value(\"Rain\", outlook)\n",
        "i3 = get_index_from_value(\"Sunny\", outlook)\n",
        "\n",
        "print(i1, i2, i3)"
      ],
      "metadata": {
        "colab": {
          "base_uri": "https://localhost:8080/"
        },
        "id": "iqjwvqNCaCIX",
        "outputId": "e28161c3-7091-441b-b229-7753a62e6b7b"
      },
      "execution_count": 5,
      "outputs": [
        {
          "output_type": "stream",
          "name": "stdout",
          "text": [
            "0 1 2\n"
          ]
        }
      ]
    },
    {
      "cell_type": "code",
      "source": [
        "train_data = create_train_data ()\n",
        "conditional_probability , list_x_name = compute_conditional_probability ( train_data )\n",
        "x1= get_index_from_value (\"Sunny\", list_x_name [0])\n",
        "# print(\"P('Outlook'='Sunny'|Play Tennis='Yes') = \", np.round(conditional_probability[0][1,x1],2))\n",
        "print(\"P('Outlook'='Sunny'|Play Tennis='Yes') =\", np.round(conditional_probability[0]['Sunny']['yes'], 2))\n",
        "print(\"P('Outlook'='Sunny'|Play Tennis='No') =\", np.round(conditional_probability[0]['Sunny']['no'], 2))"
      ],
      "metadata": {
        "colab": {
          "base_uri": "https://localhost:8080/"
        },
        "id": "I4nJqOFsaXrH",
        "outputId": "0190962d-80b7-407a-ce16-0434ac44b2ce"
      },
      "execution_count": 22,
      "outputs": [
        {
          "output_type": "stream",
          "name": "stdout",
          "text": [
            "P('Outlook'='Sunny'|Play Tennis='Yes') = 0.14\n",
            "P('Outlook'='Sunny'|Play Tennis='No') = 0.67\n"
          ]
        }
      ]
    },
    {
      "cell_type": "code",
      "source": [
        "def train_naive_bayes(train_data):\n",
        "    y_unique = ['no', 'yes']\n",
        "    prior_probability = compute_prior_probability(train_data)\n",
        "    conditional_probability, list_x_name = compute_conditional_probability(train_data)\n",
        "\n",
        "    return prior_probability, conditional_probability, list_x_name"
      ],
      "metadata": {
        "id": "evVOuWOEc5tJ"
      },
      "execution_count": 25,
      "outputs": []
    },
    {
      "cell_type": "code",
      "source": [
        "# ###################\n",
        "# Prediction\n",
        "# ###################\n",
        "def prediction_play_tennis(X, list_x_name, prior_probability, conditional_probability):\n",
        "    x1 = get_index_from_value(X[0], list_x_name[0])\n",
        "    x2 = get_index_from_value(X[1], list_x_name[1])\n",
        "    x3 = get_index_from_value(X[2], list_x_name[2])\n",
        "    x4 = get_index_from_value(X[3], list_x_name[3])\n",
        "\n",
        "    p0 = prior_probability[0]\n",
        "    p1 = prior_probability[1]\n",
        "\n",
        "    p0 *= conditional_probability[0][list_x_name[0][x1]]['no']\n",
        "    p0 *= conditional_probability[1][list_x_name[1][x2]]['no']\n",
        "    p0 *= conditional_probability[2][list_x_name[2][x3]]['no']\n",
        "    p0 *= conditional_probability[3][list_x_name[3][x4]]['no']\n",
        "\n",
        "    p1 *= conditional_probability[0][list_x_name[0][x1]]['yes']\n",
        "    p1 *= conditional_probability[1][list_x_name[1][x2]]['yes']\n",
        "    p1 *= conditional_probability[2][list_x_name[2][x3]]['yes']\n",
        "    p1 *= conditional_probability[3][list_x_name[3][x4]]['yes']\n",
        "\n",
        "    if p0 > p1:\n",
        "        y_pred = 0\n",
        "    else:\n",
        "        y_pred = 1\n",
        "\n",
        "    return y_pred\n",
        "\n",
        "# Main program\n",
        "X = ['Sunny', 'Cool', 'High', 'Strong']\n",
        "data = create_train_data()\n",
        "prior_probability, conditional_probability, list_x_name = train_naive_bayes(data)\n",
        "pred = prediction_play_tennis(X, list_x_name, prior_probability, conditional_probability)\n",
        "\n",
        "if pred:\n",
        "    print(\"Ad should go!\")\n",
        "else:\n",
        "    print(\"Ad should not go!\")\n"
      ],
      "metadata": {
        "colab": {
          "base_uri": "https://localhost:8080/"
        },
        "id": "mocTvDvoc2Ux",
        "outputId": "a07c8dbb-4a46-4adb-edfc-6ee53b371a51"
      },
      "execution_count": 26,
      "outputs": [
        {
          "output_type": "stream",
          "name": "stdout",
          "text": [
            "Ad should not go!\n"
          ]
        }
      ]
    }
  ]
}