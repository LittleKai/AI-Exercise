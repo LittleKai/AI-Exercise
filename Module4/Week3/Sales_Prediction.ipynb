{
  "nbformat": 4,
  "nbformat_minor": 0,
  "metadata": {
    "colab": {
      "provenance": []
    },
    "kernelspec": {
      "name": "python3",
      "display_name": "Python 3"
    },
    "language_info": {
      "name": "python"
    }
  },
  "cells": [
    {
      "cell_type": "code",
      "execution_count": 3,
      "metadata": {
        "colab": {
          "base_uri": "https://localhost:8080/"
        },
        "id": "YmPplNGwGU3w",
        "outputId": "884576ca-31ce-4346-b38e-b8d7715a6b27"
      },
      "outputs": [
        {
          "output_type": "stream",
          "name": "stdout",
          "text": [
            "Mean của đặc trưng đầu tiên: 54.173577723283785\n",
            "R2 Score: 0.9951796158547627\n"
          ]
        }
      ],
      "source": [
        "import pandas as pd\n",
        "import numpy as np\n",
        "from sklearn.model_selection import train_test_split\n",
        "from sklearn.preprocessing import StandardScaler, PolynomialFeatures\n",
        "from sklearn.linear_model import LinearRegression\n",
        "from sklearn.metrics import r2_score\n",
        "\n",
        "# Đọc dữ liệu\n",
        "df = pd.read_csv('SalesPrediction.csv')\n",
        "\n",
        "# One-hot encoding cho trường Influencer\n",
        "df = pd.get_dummies(df)\n",
        "\n",
        "# Xử lý giá trị null bằng cách thay thế bằng giá trị trung bình\n",
        "df = df.fillna(df.mean())\n",
        "\n",
        "# Chuẩn bị dữ liệu\n",
        "X = df[['TV', 'Radio', 'Social Media', 'Influencer_Macro', 'Influencer_Mega', 'Influencer_Micro', 'Influencer_Nano']]\n",
        "y = df[['Sales']]\n",
        "\n",
        "# Chia dữ liệu thành tập huấn luyện và kiểm tra\n",
        "X_train, X_test, y_train, y_test = train_test_split(X, y, test_size=0.33, random_state=0)\n",
        "\n",
        "# Chuẩn hóa đặc trưng\n",
        "scaler = StandardScaler()\n",
        "X_train_scaled = scaler.fit_transform(X_train)\n",
        "X_test_scaled = scaler.transform(X_test)\n",
        "\n",
        "# In giá trị mean của đặc trưng đầu tiên sau khi chuẩn hóa\n",
        "print(\"Mean của đặc trưng đầu tiên:\", scaler.mean_[0])\n",
        "\n",
        "# Tạo đặc trưng đa thức\n",
        "poly_features = PolynomialFeatures(degree=2)\n",
        "X_train_poly = poly_features.fit_transform(X_train_scaled)\n",
        "X_test_poly = poly_features.transform(X_test_scaled)\n",
        "\n",
        "# Huấn luyện mô hình hồi quy đa thức\n",
        "poly_model = LinearRegression()\n",
        "poly_model.fit(X_train_poly, y_train)\n",
        "\n",
        "# Dự đoán và đánh giá mô hình\n",
        "y_pred = poly_model.predict(X_test_poly)\n",
        "r2 = r2_score(y_test, y_pred)\n",
        "\n",
        "print(\"R2 Score:\", r2)"
      ]
    }
  ]
}