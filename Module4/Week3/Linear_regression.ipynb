{
  "nbformat": 4,
  "nbformat_minor": 0,
  "metadata": {
    "colab": {
      "provenance": []
    },
    "kernelspec": {
      "name": "python3",
      "display_name": "Python 3"
    },
    "language_info": {
      "name": "python"
    }
  },
  "cells": [
    {
      "cell_type": "code",
      "execution_count": 1,
      "metadata": {
        "id": "YmPplNGwGU3w"
      },
      "outputs": [],
      "source": [
        "import numpy as np\n",
        "\n",
        "class CustomLinearRegression:\n",
        "    def __init__(self, X_data, y_target, learning_rate=0.01, num_epochs=10000):\n",
        "        self.num_samples = X_data.shape[0]\n",
        "        self.X_data = np.c_[np.ones((self.num_samples, 1)), X_data]\n",
        "        self.y_target = y_target\n",
        "        self.learning_rate = learning_rate\n",
        "        self.num_epochs = num_epochs\n",
        "\n",
        "        # Initial weights\n",
        "        self.theta = np.random.randn(self.X_data.shape[1], 1)\n",
        "        self.losses = []\n",
        "\n",
        "    def compute_loss(self, y_pred, y_target):\n",
        "        loss = np.mean((y_pred - y_target) ** 2)\n",
        "        return loss\n",
        "\n",
        "    def predict(self, X_data):\n",
        "        if X_data.ndim == 1:\n",
        "            X_data = X_data.reshape(1, -1)\n",
        "        X_data_with_intercept = np.c_[np.ones((X_data.shape[0], 1)), X_data]\n",
        "        y_pred = X_data_with_intercept.dot(self.theta)\n",
        "        return y_pred\n",
        "\n",
        "    def fit(self):\n",
        "        for epoch in range(self.num_epochs):\n",
        "            # predict\n",
        "            y_pred = self.predict(self.X_data[:, 1:])\n",
        "\n",
        "            # compute loss\n",
        "            loss = self.compute_loss(y_pred, self.y_target)\n",
        "            self.losses.append(loss)\n",
        "\n",
        "            # compute gradient\n",
        "            loss_grd = 2*(y_pred - self.y_target) / self.num_samples\n",
        "            gradients = self.X_data.T.dot(loss_grd)\n",
        "\n",
        "            # update weight\n",
        "            self.theta = self.theta - self.learning_rate * gradients\n",
        "\n",
        "            if (epoch % 50) == 0:\n",
        "                print(f'Epoch: {epoch} - Loss: {loss}')\n",
        "\n",
        "        return {\n",
        "            'loss': sum(self.losses)/len(self.losses),\n",
        "            'weight': self.theta\n",
        "        }\n",
        "\n",
        "def r2score(y_pred, y):\n",
        "    rss = np.sum((y_pred - y) ** 2)\n",
        "    tss = np.sum((y - y.mean()) ** 2)\n",
        "    r2 = 1 - (rss / tss)\n",
        "    return r2"
      ]
    },
    {
      "cell_type": "code",
      "source": [
        "import numpy as np\n",
        "\n",
        "# Case 1\n",
        "y_pred1 = np.array([1, 2, 3, 4, 5])\n",
        "y1 = np.array([1, 2, 3, 4, 5])\n",
        "r2_1 = r2score(y_pred1, y1)\n",
        "\n",
        "# Case 2\n",
        "y_pred2 = np.array([1, 2, 3, 4, 5])\n",
        "y2 = np.array([3, 5, 5, 2, 4])\n",
        "r2_2 = r2score(y_pred2, y2)\n",
        "\n",
        "print(f\"Case 1 R2 score: {r2_1}\")\n",
        "print(f\"Case 2 R2 score: {r2_2}\")"
      ],
      "metadata": {
        "colab": {
          "base_uri": "https://localhost:8080/"
        },
        "id": "DywnJ_hFHI9T",
        "outputId": "92c5cd3e-f14f-4058-c85b-61c929e1d9b2"
      },
      "execution_count": 2,
      "outputs": [
        {
          "output_type": "stream",
          "name": "stdout",
          "text": [
            "Case 1 R2 score: 1.0\n",
            "Case 2 R2 score: -2.235294117647059\n"
          ]
        }
      ]
    }
  ]
}