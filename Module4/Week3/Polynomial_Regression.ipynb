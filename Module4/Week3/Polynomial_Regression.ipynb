{
  "nbformat": 4,
  "nbformat_minor": 0,
  "metadata": {
    "colab": {
      "provenance": []
    },
    "kernelspec": {
      "name": "python3",
      "display_name": "Python 3"
    },
    "language_info": {
      "name": "python"
    }
  },
  "cells": [
    {
      "cell_type": "code",
      "execution_count": 4,
      "metadata": {
        "colab": {
          "base_uri": "https://localhost:8080/"
        },
        "id": "YmPplNGwGU3w",
        "outputId": "fb3750c6-1245-4d79-8706-ff195bf2b101"
      },
      "outputs": [
        {
          "output_type": "stream",
          "name": "stdout",
          "text": [
            "Input X:\n",
            "[[1 2]\n",
            " [2 3]\n",
            " [3 4]]\n",
            "\n",
            "Polynomial features (degree = 2):\n",
            "[[ 1  1  2  4]\n",
            " [ 2  4  3  9]\n",
            " [ 3  9  4 16]]\n"
          ]
        }
      ],
      "source": [
        "import numpy as np\n",
        "\n",
        "def create_polynomial_features(X, degree=2):\n",
        "    \"\"\" Creates the polynomial features\n",
        "    Args:\n",
        "        X: A array for the data.\n",
        "        degree: A integer for the degree of the generated polynomial function.\n",
        "    \"\"\"\n",
        "    X_mem = []\n",
        "    for X_sub in X.T:\n",
        "        X_sub = X_sub.T\n",
        "        X_new = X_sub\n",
        "        for d in range(2, degree+1):\n",
        "            X_new = np.c_[X_new, np.power(X_sub, d)]\n",
        "        X_mem.extend(X_new.T)\n",
        "    return np.c_[X_mem].T\n",
        "\n",
        "# Ví dụ sử dụng\n",
        "X = np.array([[1, 2],\n",
        "              [2, 3],\n",
        "              [3, 4]])\n",
        "degree = 2\n",
        "\n",
        "X_poly = create_polynomial_features(X, degree)\n",
        "print(\"Input X:\")\n",
        "print(X)\n",
        "print(\"\\nPolynomial features (degree = 2):\")\n",
        "print(X_poly)"
      ]
    }
  ]
}